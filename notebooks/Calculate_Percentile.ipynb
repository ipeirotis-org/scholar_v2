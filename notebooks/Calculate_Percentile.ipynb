{
  "nbformat": 4,
  "nbformat_minor": 0,
  "metadata": {
    "colab": {
      "private_outputs": true,
      "provenance": [],
      "authorship_tag": "ABX9TyMA7xUyx3tLkIrcQRuqspVD",
      "include_colab_link": true
    },
    "kernelspec": {
      "name": "python3",
      "display_name": "Python 3"
    },
    "language_info": {
      "name": "python"
    }
  },
  "cells": [
    {
      "cell_type": "markdown",
      "metadata": {
        "id": "view-in-github",
        "colab_type": "text"
      },
      "source": [
        "<a href=\"https://colab.research.google.com/github/ipeirotis-org/scholar_v2/blob/main/Calculate_Percentile.ipynb\" target=\"_parent\"><img src=\"https://colab.research.google.com/assets/colab-badge.svg\" alt=\"Open In Colab\"/></a>"
      ]
    },
    {
      "cell_type": "code",
      "source": [
        "!pip install -q scholarly\n"
      ],
      "metadata": {
        "id": "YDMuDXcaZz3u"
      },
      "execution_count": null,
      "outputs": []
    },
    {
      "cell_type": "code",
      "source": [
        "import pandas as pd\n",
        "import numpy as np"
      ],
      "metadata": {
        "id": "EPCzDVjGglny"
      },
      "execution_count": null,
      "outputs": []
    },
    {
      "cell_type": "code",
      "execution_count": null,
      "metadata": {
        "id": "KEiU3dJHZEcz"
      },
      "outputs": [],
      "source": [
        "# This normalizes the score of each paper to be a number between 0-1, based on age of #citations\n",
        "url = 'https://raw.githubusercontent.com/ipeirotis/scholar_v2/main/percentiles.csv'\n",
        "percentile_df = pd.read_csv(url).set_index('age')\n",
        "percentile_df.head()"
      ]
    },
    {
      "cell_type": "code",
      "source": [
        "url = 'https://raw.githubusercontent.com/ipeirotis-org/scholar_v2/main/author_numpapers_percentiles.csv'\n",
        "papers_df = pd.read_csv(url).set_index('years_since_first_pub')\n",
        "papers_df.head()"
      ],
      "metadata": {
        "id": "6oVBVYh7v-39"
      },
      "execution_count": null,
      "outputs": []
    },
    {
      "cell_type": "code",
      "source": [
        "percentile_df.columns = [float(p) for p in percentile_df.columns]\n",
        "papers_df.columns = [float(p) for p in papers_df.columns]"
      ],
      "metadata": {
        "id": "lKzzn75kfznj"
      },
      "execution_count": null,
      "outputs": []
    },
    {
      "cell_type": "code",
      "source": [
        "# For example, for a paper to score at 99.1% percentile, at year 5 it needs at least 364 citations\n",
        "\n",
        "year = 5\n",
        "percentile = 99.1\n",
        "citations = percentile_df.loc[year,percentile]\n",
        "print(f\"The number of citations necessary to score at the {percentile} percentile at year {year} is {citations}\")\n"
      ],
      "metadata": {
        "id": "gfRhXdXIZX5s"
      },
      "execution_count": null,
      "outputs": []
    },
    {
      "cell_type": "code",
      "source": [
        "from datetime import datetime\n",
        "from scholarly import scholarly\n",
        "import json\n",
        "import logging\n",
        "\n",
        "def get_scholar_data(author_name):\n",
        "    try:\n",
        "        # Query for author and fill in the details\n",
        "        search_query = scholarly.search_author(author_name)\n",
        "        author = scholarly.fill(next(search_query))\n",
        "    except Exception:\n",
        "        logging.exception(\"Error getting data from Google Scholar\")\n",
        "        return None, None\n",
        "\n",
        "    # We want to keep track of the last time we updated the file\n",
        "    now = datetime.now()\n",
        "    timestamp = int(datetime.timestamp(now))\n",
        "    date_str = now.strftime(\"%Y-%m-%d %H:%M:%S\")\n",
        "\n",
        "    # Bookkeeping with publications\n",
        "    publications = []\n",
        "    for pub in author[\"publications\"]:\n",
        "        pub[\"citedby\"] = pub.pop(\"num_citations\")\n",
        "        pub[\"last_updated_ts\"] = timestamp\n",
        "        pub[\"last_updated\"] = date_str\n",
        "\n",
        "        publications.append(pub)\n",
        "\n",
        "    # Add last-updated information in the dictionary\n",
        "    author[\"last_updated_ts\"] = timestamp\n",
        "    author[\"last_updated\"] = date_str\n",
        "    # Remove the publications entries, which are not needed in the JSON\n",
        "    del author[\"publications\"]\n",
        "\n",
        "    return author, publications"
      ],
      "metadata": {
        "id": "iexOJq-uZtoY"
      },
      "execution_count": null,
      "outputs": []
    },
    {
      "cell_type": "code",
      "source": [
        "def score_papers(row):\n",
        "    age, citations = row['age'], row['citations']\n",
        "\n",
        "    # If the exact age isn't present, find the nearest age in the percentile_df\n",
        "    if age not in percentile_df.index:\n",
        "        nearest_age = percentile_df.index[np.abs(percentile_df.index - age).argmin()]\n",
        "    else:\n",
        "        nearest_age = age\n",
        "\n",
        "    # Get the percentiles for the given (or nearest) age\n",
        "    percentiles = percentile_df.loc[nearest_age]\n",
        "\n",
        "    # If the paper's citations is less than the minimum percentile, return 0 percentile\n",
        "    if citations <= percentiles.min():\n",
        "        return 0.0\n",
        "    # If the paper's citations is greater than the maximum percentile, return 100 percentile\n",
        "    elif citations >= percentiles.max():\n",
        "        return 100.0\n",
        "    else:\n",
        "        # Find the two closest percentiles\n",
        "        below = percentiles[percentiles <= citations].idxmax()\n",
        "        above = percentiles[percentiles >= citations].idxmin()\n",
        "\n",
        "        # Interpolate the score (or simply use the closest percentile)\n",
        "        if above == below:\n",
        "            return above\n",
        "        else:\n",
        "            # Linear interpolation\n",
        "            lower_bound = percentiles[below]\n",
        "            upper_bound = percentiles[above]\n",
        "            weight = (citations - lower_bound) / (upper_bound - lower_bound)\n",
        "            return below + weight * (above - below)"
      ],
      "metadata": {
        "id": "zArb5xihZgBW"
      },
      "execution_count": null,
      "outputs": []
    },
    {
      "cell_type": "code",
      "source": [
        "def get_numpaper_percentiles(year):\n",
        "  # How to translate the values from raw number of papers to percentiles:\n",
        "\n",
        "  s = papers_df.loc[year,:]\n",
        "\n",
        "  # Group by the series values, sort the indices, and pick the last index for each value\n",
        "  highest_indices = s.groupby(s).apply(lambda x: x.index[-1])\n",
        "\n",
        "  # Create a new series from this\n",
        "  sw = pd.Series(index=highest_indices.values, data=highest_indices.index)\n",
        "\n",
        "  normalized_values = pd.Series(data=sw.index, index=sw.values)\n",
        "\n",
        "  return normalized_values\n",
        "\n",
        "def find_closest(series, number):\n",
        "  # Calculate the absolute difference between each value in the series and the input number\n",
        "  differences = np.abs(series.index - number)\n",
        "\n",
        "  # Find the index of the smallest difference\n",
        "  closest_index = differences.argmin()\n",
        "\n",
        "  # Return the corresponding value from the series\n",
        "  return series.iloc[closest_index]\n"
      ],
      "metadata": {
        "id": "8qPobzw9aYbE"
      },
      "execution_count": null,
      "outputs": []
    },
    {
      "cell_type": "code",
      "source": [
        "\n",
        "def get_author_statistics(author_name):\n",
        "    author, publications = get_scholar_data(author_name)\n",
        "\n",
        "    pubs = [\n",
        "        {\n",
        "            \"citations\": p['citedby'],\n",
        "            \"age\": 2024-int(p['bib'].get('pub_year'))+1,\n",
        "            \"title\":  p['bib'].get('title')\n",
        "        }\n",
        "        for p in publications\n",
        "          if p['bib'].get('pub_year') is not None and p['citedby']>0\n",
        "        ]\n",
        "\n",
        "    query = pd.DataFrame(pubs)\n",
        "\n",
        "    query['percentile_score'] = query.apply(score_papers, axis=1)\n",
        "    query['percentile_score'] = query['percentile_score'].round(2)\n",
        "    query['paper_rank'] = query['percentile_score'].rank(ascending=False, method='first')\n",
        "    query['paper_rank'] = query['paper_rank'].astype(int)\n",
        "\n",
        "    year = query['age'].max()\n",
        "    num_papers_percentile = get_numpaper_percentiles(year)\n",
        "    query['num_papers_percentile'] = query['paper_rank'].apply(lambda x: find_closest(num_papers_percentile, x))\n",
        "\n",
        "    query['num_papers_percentile'] = query['num_papers_percentile'].astype(float)\n",
        "\n",
        "    query = query.sort_values('percentile_score', ascending=False)\n",
        "\n",
        "    return query"
      ],
      "metadata": {
        "id": "wRDP6oyWe0pY"
      },
      "execution_count": null,
      "outputs": []
    },
    {
      "cell_type": "markdown",
      "source": [
        "# Individual author analysis"
      ],
      "metadata": {
        "id": "LN5fG0aZpuOJ"
      }
    },
    {
      "cell_type": "code",
      "source": [
        "author_name = \"Panos Ipeirotis\"\n",
        "result = get_author_statistics(author_name)\n",
        "result"
      ],
      "metadata": {
        "id": "ls_X7IOVdwdJ"
      },
      "execution_count": null,
      "outputs": []
    },
    {
      "cell_type": "code",
      "source": [
        "result.plot.scatter(x='num_papers_percentile', y='percentile_score', c='age', cmap='Blues_r', s=2, grid=True, xlim=(0,100), ylim=(0,100), figsize=(8, 8))\n"
      ],
      "metadata": {
        "id": "Ckgy2mdipsO2"
      },
      "execution_count": null,
      "outputs": []
    },
    {
      "cell_type": "code",
      "source": [
        "auc = result.filter(['num_papers_percentile', 'percentile_score']).drop_duplicates(subset='num_papers_percentile', keep='first')\n",
        "auc_score = np.trapz(auc['percentile_score'], auc['num_papers_percentile'])\n",
        "\n",
        "print(f\"AUC score: {(auc_score/(100*100)):.4f}\")"
      ],
      "metadata": {
        "id": "ecmKJI8V1JiN"
      },
      "execution_count": null,
      "outputs": []
    },
    {
      "cell_type": "markdown",
      "source": [
        "# Comparative author analysis"
      ],
      "metadata": {
        "id": "xpUWpQ4VpxUa"
      }
    },
    {
      "cell_type": "code",
      "source": [
        "authors = [\n",
        "    \"Andrew Ng\", \"Jon Kleinberg\", \"Yann Lecun\",   \"Eric Horvitz\", #  \"Jure Leskovec\", #\n",
        "]\n",
        "\n",
        "results = dict()\n",
        "for author in authors:\n",
        "  results[author] = get_author_statistics(author)"
      ],
      "metadata": {
        "id": "y0_kJzobd8s7"
      },
      "execution_count": null,
      "outputs": []
    },
    {
      "cell_type": "code",
      "source": [
        "to_join = [\n",
        "    results[author]\n",
        "    .filter(['num_papers_percentile', 'percentile_score'])\n",
        "    .rename(columns={'percentile_score': author})\n",
        "    .drop_duplicates(subset='num_papers_percentile', keep='first')\n",
        "    .set_index('num_papers_percentile')\n",
        "    for author in authors]\n",
        "matched = pd.concat(to_join, axis=1).sort_index()\n",
        "matched.ffill(inplace=True)"
      ],
      "metadata": {
        "id": "ulWSDRCTh2Vv"
      },
      "execution_count": null,
      "outputs": []
    },
    {
      "cell_type": "code",
      "source": [
        "matched.plot.line(figsize=(6, 6), grid=True, xlim=(0,100), ylim=(0,100), lw=1)\n"
      ],
      "metadata": {
        "id": "I15pvDWhmkp2"
      },
      "execution_count": null,
      "outputs": []
    }
  ]
}
