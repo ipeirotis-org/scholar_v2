{
 "nbformat": 4,
 "nbformat_minor": 0,
 "metadata": {
  "colab": {
   "private_outputs": true,
   "provenance": [],
   "authorship_tag": "ABX9TyM2TKA0btw33IosGKW3Vla/",
   "include_colab_link": true
  },
  "kernelspec": {
   "name": "python3",
   "display_name": "Python 3"
  },
  "language_info": {
   "name": "python"
  }
 },
 "cells": [
  {
   "cell_type": "markdown",
   "metadata": {
    "id": "view-in-github",
    "colab_type": "text"
   },
   "source": [
    "<a href=\"https://colab.research.google.com/github/ipeirotis-org/scholar_v2/blob/main/notebooks/pip_auc_percentiles.ipynb\" target=\"_parent\"><img src=\"https://colab.research.google.com/assets/colab-badge.svg\" alt=\"Open In Colab\"/></a>"
   ]
  },
  {
   "cell_type": "code",
   "execution_count": null,
   "metadata": {
    "id": "k2pTY3FVd6x0"
   },
   "outputs": [],
   "source": [
    "!pip install firebase-admin google-cloud-firestore google-auth"
   ]
  },
  {
   "cell_type": "code",
   "source": [
    "from google.colab import auth\n",
    "from google.cloud import firestore\n",
    "import google.auth\n",
    "\n",
    "# Authenticate to Google Cloud\n",
    "auth.authenticate_user()\n",
    "credentials, project = google.auth.default()\n",
    "\n",
    "project = \"scholar-version2\"\n",
    "\n",
    "# Initialize Firestore\n",
    "db = firestore.Client(credentials=credentials, project=project)"
   ],
   "metadata": {
    "id": "LWILyoYJd8nh"
   },
   "execution_count": null,
   "outputs": []
  },
  {
   "cell_type": "code",
   "source": [
    "# Retrieve documents\n",
    "collection_ref = db.collection(\"author_stats\")\n",
    "docs = collection_ref.stream()\n",
    "# Extract the attribute values\n",
    "values = [\n",
    "    doc.to_dict().get(\"data\").get(\"pip_auc\")\n",
    "    for doc in docs\n",
    "    if doc.to_dict().get(\"data\")\n",
    "]"
   ],
   "metadata": {
    "id": "Vc8vl8-5eiyQ"
   },
   "execution_count": null,
   "outputs": []
  },
  {
   "cell_type": "code",
   "source": [
    "values"
   ],
   "metadata": {
    "id": "NgAXIX2ufbVB"
   },
   "execution_count": null,
   "outputs": []
  },
  {
   "cell_type": "code",
   "source": [
    "# Using Pandas for histogram computation\n",
    "import pandas as pd\n",
    "\n",
    "# Create a DataFrame\n",
    "df = pd.DataFrame({\"pip_auc\": values})"
   ],
   "metadata": {
    "id": "2WMiJNPFefFA"
   },
   "execution_count": null,
   "outputs": []
  },
  {
   "cell_type": "code",
   "source": [
    "df.hist(bins=100)"
   ],
   "metadata": {
    "id": "BqAnX8aNfqeO"
   },
   "execution_count": null,
   "outputs": []
  },
  {
   "cell_type": "code",
   "source": [
    "import numpy as np\n",
    "\n",
    "percentiles = df[\"pip_auc\"].quantile(np.linspace(0, 1, 1001))\n",
    "percentiles.plot(grid=True)"
   ],
   "metadata": {
    "id": "qvpNLUVKimd0"
   },
   "execution_count": null,
   "outputs": []
  },
  {
   "cell_type": "code",
   "source": [
    "%config InlineBackend.figure_format = 'retina'\n",
    "\n",
    "\n",
    "import matplotlib.pyplot as plt\n",
    "import numpy as np\n",
    "\n",
    "# Assuming df is your DataFrame and pip_auc is your column\n",
    "percentiles = df[\"pip_auc\"].quantile(np.linspace(0, 1, 1001))\n",
    "\n",
    "# Prepare data for swapped axes\n",
    "x_values = percentiles.values  # These were originally y-values\n",
    "y_values = percentiles.index  # These are the quantile levels, now as y-values\n",
    "\n",
    "# Create the plot with swapped axes\n",
    "fig, ax = plt.subplots(figsize=(10, 10))\n",
    "ax.plot(x_values, y_values)\n",
    "\n",
    "# Add a diagonal line from (0, 0) to (1, 1)\n",
    "ax.axline((0, 0), (1, 1), color=\"red\", linestyle=\"--\")\n",
    "\n",
    "# Set the aspect of the plot to be equal\n",
    "ax.set_aspect(\"equal\", \"box\")\n",
    "\n",
    "# Adjust tick frequency for a denser grid\n",
    "ax.set_xticks(\n",
    "    np.arange(min(x_values), max(x_values), step=0.05)\n",
    ")  # Adjust step as needed\n",
    "ax.set_yticks(np.arange(0, 1.1, step=0.05))  # Adjust step as needed\n",
    "\n",
    "# Customize grid style\n",
    "ax.grid(True, color=\"lightgray\", linestyle=\"--\")\n",
    "\n",
    "ax.set_xlim(0, 1)\n",
    "ax.set_ylim(0, 1)\n",
    "\n",
    "ax.set_xlabel(\"PiP-AUC Score\")\n",
    "ax.set_ylabel(\"PiP-AUC Percentile\")\n",
    "\n",
    "# Show the plot\n",
    "plt.show()"
   ],
   "metadata": {
    "id": "o0KyGUTAjB18"
   },
   "execution_count": null,
   "outputs": []
  }
 ]
}