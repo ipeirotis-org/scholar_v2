{
  "nbformat": 4,
  "nbformat_minor": 0,
  "metadata": {
    "colab": {
      "private_outputs": true,
      "provenance": [],
      "authorship_tag": "ABX9TyNZ+hVRa3OeKGsezfo8BrWw",
      "include_colab_link": true
    },
    "kernelspec": {
      "name": "python3",
      "display_name": "Python 3"
    },
    "language_info": {
      "name": "python"
    }
  },
  "cells": [
    {
      "cell_type": "markdown",
      "metadata": {
        "id": "view-in-github",
        "colab_type": "text"
      },
      "source": [
        "<a href=\"https://colab.research.google.com/github/ipeirotis-org/scholar_v2/blob/main/notebooks/process_authors.ipynb\" target=\"_parent\"><img src=\"https://colab.research.google.com/assets/colab-badge.svg\" alt=\"Open In Colab\"/></a>"
      ]
    },
    {
      "cell_type": "code",
      "execution_count": null,
      "metadata": {
        "id": "LexnU7crVZ-D"
      },
      "outputs": [],
      "source": [
        "import pandas as pd\n",
        "import numpy as np\n",
        "from tqdm import tqdm\n",
        "from tqdm.auto import tqdm\n",
        "tqdm.pandas()\n",
        "\n",
        "url = 'https://media.githubusercontent.com/media/sentian/SciImpactRanking/master/data/raw/authors.csv'\n",
        "\n",
        "benchmark_df = pd.read_csv(url)"
      ]
    },
    {
      "cell_type": "code",
      "source": [
        "benchmark_df"
      ],
      "metadata": {
        "id": "Sa8f2cPlVmDk"
      },
      "execution_count": null,
      "outputs": []
    },
    {
      "cell_type": "code",
      "source": [
        "import requests\n",
        "from concurrent.futures import ThreadPoolExecutor, as_completed\n",
        "from tqdm import tqdm\n",
        "\n",
        "scholar_ids = benchmark_df['gs.id'].tolist()\n",
        "\n",
        "# Function to perform the request\n",
        "def fetch(scholar_id):\n",
        "    url = f\"https://scholar.ipeirotis.org/results?author_id={scholar_id}\"\n",
        "    response = requests.get(url)\n",
        "    return response  # Or any other processing you need\n",
        "\n",
        "# Using ThreadPoolExecutor to manage parallel requests\n",
        "with ThreadPoolExecutor(max_workers=50) as executor:\n",
        "    # Submitting tasks to the executor\n",
        "    futures = {executor.submit(fetch, scholar_id): scholar_id for scholar_id in scholar_ids}\n",
        "\n",
        "    # Progress bar with tqdm\n",
        "    for future in tqdm(as_completed(futures), total=len(scholar_ids)):\n",
        "        try:\n",
        "            # Getting the result of the request\n",
        "            result = future.result()\n",
        "            # Process the result as needed\n",
        "        except Exception as e:\n",
        "            print(f\"Request failed: {e}\")\n"
      ],
      "metadata": {
        "id": "zrDJUlnWVnRQ"
      },
      "execution_count": null,
      "outputs": []
    }
  ]
}