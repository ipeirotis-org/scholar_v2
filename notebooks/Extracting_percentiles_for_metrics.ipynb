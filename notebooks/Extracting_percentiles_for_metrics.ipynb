{
 "nbformat": 4,
 "nbformat_minor": 0,
 "metadata": {
  "colab": {
   "private_outputs": true,
   "provenance": [],
   "authorship_tag": "ABX9TyOdpxEZ8BN7v/IAssxj8Bq1",
   "include_colab_link": true
  },
  "kernelspec": {
   "name": "python3",
   "display_name": "Python 3"
  },
  "language_info": {
   "name": "python"
  }
 },
 "cells": [
  {
   "cell_type": "markdown",
   "metadata": {
    "id": "view-in-github",
    "colab_type": "text"
   },
   "source": [
    "<a href=\"https://colab.research.google.com/github/ipeirotis-org/scholar_v2/blob/main/notebooks/Extracting_percentiles_for_metrics.ipynb\" target=\"_parent\"><img src=\"https://colab.research.google.com/assets/colab-badge.svg\" alt=\"Open In Colab\"/></a>"
   ]
  },
  {
   "cell_type": "code",
   "source": [
    "!pip install --upgrade google-cloud-tasks google-auth"
   ],
   "metadata": {
    "id": "Dv7mK-GB6V7I"
   },
   "execution_count": null,
   "outputs": []
  },
  {
   "cell_type": "code",
   "source": [
    "from google.colab import auth\n",
    "\n",
    "auth.authenticate_user()"
   ],
   "metadata": {
    "id": "JFRItH_56X3X"
   },
   "execution_count": null,
   "outputs": []
  },
  {
   "cell_type": "code",
   "execution_count": null,
   "metadata": {
    "id": "vUeyock6JIjL"
   },
   "outputs": [],
   "source": [
    "from tqdm import tqdm\n",
    "import pandas as pd"
   ]
  },
  {
   "cell_type": "code",
   "source": [
    "from google.cloud import firestore\n",
    "import google.auth\n",
    "\n",
    "credentials, _ = google.auth.default()"
   ],
   "metadata": {
    "id": "S4Vi2l4katRa"
   },
   "execution_count": null,
   "outputs": []
  },
  {
   "cell_type": "code",
   "source": [
    "# @title Create a table with the analytics of the authors\n",
    "\n",
    "# Initialize Firestore (ensure you have your credentials configured)\n",
    "db = firestore.Client(credentials=credentials, project=\"scholar-version2\")\n",
    "\n",
    "entries = []\n",
    "\n",
    "PAGE_SIZE = 10\n",
    "collection_ref = db.collection(\"author_stats\")\n",
    "query = collection_ref.order_by(\"timestamp\").limit(PAGE_SIZE)\n",
    "\n",
    "# Start with the initial query\n",
    "last_document_snapshot = None\n",
    "\n",
    "while True:\n",
    "    if last_document_snapshot:\n",
    "        query = (\n",
    "            collection_ref.order_by(\"timestamp\")\n",
    "            .start_after(last_document_snapshot)\n",
    "            .limit(PAGE_SIZE)\n",
    "        )\n",
    "\n",
    "    # Temporarily store documents from the current page to determine if we need to continue\n",
    "    current_page_documents = []\n",
    "\n",
    "    for doc in tqdm(query.stream()):\n",
    "        data = doc.to_dict().get(\"data\", {})\n",
    "        stats = data.get(\"stats\", {})\n",
    "        entry = {\n",
    "            \"scholar_id\": data.get(\"scholar_id\"),\n",
    "            \"hindex\": data.get(\"hindex\"),\n",
    "            \"years_active\": stats.get(\"years_active\"),\n",
    "            \"pip_auc\": stats.get(\"pip_auc\"),\n",
    "            \"pip_auc_percentile\": stats.get(\"pip_auc_percentile\"),\n",
    "            \"total_publications\": stats.get(\"total_publications\"),\n",
    "            \"total_publications_percentile\": stats.get(\"total_publications_percentile\"),\n",
    "            \"citedby\": data.get(\"citedby\"),\n",
    "        }\n",
    "        entries.append(entry)\n",
    "        current_page_documents.append(doc)\n",
    "\n",
    "    if not current_page_documents:\n",
    "        break  # Exit the loop if no documents are left\n",
    "\n",
    "    # Use the last document from the current page as the starting point for the next query\n",
    "    last_document_snapshot = current_page_documents[-1]\n",
    "\n",
    "# Convert entries to DataFrame if needed"
   ],
   "metadata": {
    "id": "H7xot6kSJnit"
   },
   "execution_count": null,
   "outputs": []
  },
  {
   "cell_type": "code",
   "source": [
    "df = pd.DataFrame(entries)"
   ],
   "metadata": {
    "id": "stUil9jom9mM"
   },
   "execution_count": null,
   "outputs": []
  },
  {
   "cell_type": "code",
   "source": [
    "df.dtypes"
   ],
   "metadata": {
    "id": "R4Ci7NdNq1m5"
   },
   "execution_count": null,
   "outputs": []
  },
  {
   "cell_type": "code",
   "source": [
    "df.years_active = pd.to_numeric(df.years_active, errors=\"coerce\")\n",
    "df.total_publications_percentile = pd.to_numeric(\n",
    "    df.total_publications_percentile, errors=\"coerce\"\n",
    ")"
   ],
   "metadata": {
    "id": "5jgvttAZmv2R"
   },
   "execution_count": null,
   "outputs": []
  },
  {
   "cell_type": "code",
   "source": [
    "df"
   ],
   "metadata": {
    "id": "e1qti9BonEoQ"
   },
   "execution_count": null,
   "outputs": []
  },
  {
   "cell_type": "code",
   "source": [
    "%config InlineBackend.figure_format='retina'"
   ],
   "metadata": {
    "id": "py1se9Gnn8eB"
   },
   "execution_count": null,
   "outputs": []
  },
  {
   "cell_type": "code",
   "source": [
    "import numpy as np\n",
    "\n",
    "\n",
    "# Define a custom aggregation function\n",
    "def percentile(n):\n",
    "    def percentile_(x):\n",
    "        return np.percentile(x, n)\n",
    "\n",
    "    percentile_.__name__ = f\"percentile_{n}\"\n",
    "    return percentile_\n",
    "\n",
    "\n",
    "pvt = df.query(\"years_active<=50\").pivot_table(\n",
    "    values=\"total_publications\",\n",
    "    index=\"years_active\",\n",
    "    aggfunc=[\n",
    "        percentile(0),\n",
    "        percentile(10),\n",
    "        percentile(25),\n",
    "        percentile(50),\n",
    "        percentile(75),\n",
    "        percentile(90),\n",
    "    ],\n",
    ")"
   ],
   "metadata": {
    "id": "RCaWMvBkUoDg"
   },
   "execution_count": null,
   "outputs": []
  },
  {
   "cell_type": "code",
   "source": [
    "pvt.plot(grid=True)"
   ],
   "metadata": {
    "id": "iL5z7c-RnTt-"
   },
   "execution_count": null,
   "outputs": []
  },
  {
   "cell_type": "code",
   "source": [
    "pd.DataFrame(entries).query(\"years_active<=50\").pivot_table(\n",
    "    values=\"h_index\", index=\"years_active\", aggfunc=\"median\"\n",
    ").plot(grid=True)"
   ],
   "metadata": {
    "id": "FB1NnH_MXgK5"
   },
   "execution_count": null,
   "outputs": []
  },
  {
   "cell_type": "code",
   "source": [],
   "metadata": {
    "id": "K36Y0RVJKN2E"
   },
   "execution_count": null,
   "outputs": []
  }
 ]
}