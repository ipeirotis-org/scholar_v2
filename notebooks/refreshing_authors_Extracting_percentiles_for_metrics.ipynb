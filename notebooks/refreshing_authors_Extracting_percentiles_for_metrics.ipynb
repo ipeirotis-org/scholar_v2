{
  "nbformat": 4,
  "nbformat_minor": 0,
  "metadata": {
    "colab": {
      "private_outputs": true,
      "provenance": [],
      "authorship_tag": "ABX9TyN0Vsx+w/0QGtEYaT0FtQBN",
      "include_colab_link": true
    },
    "kernelspec": {
      "name": "python3",
      "display_name": "Python 3"
    },
    "language_info": {
      "name": "python"
    }
  },
  "cells": [
    {
      "cell_type": "markdown",
      "metadata": {
        "id": "view-in-github",
        "colab_type": "text"
      },
      "source": [
        "<a href=\"https://colab.research.google.com/github/ipeirotis-org/scholar_v2/blob/main/notebooks/refreshing_authors_Extracting_percentiles_for_metrics.ipynb\" target=\"_parent\"><img src=\"https://colab.research.google.com/assets/colab-badge.svg\" alt=\"Open In Colab\"/></a>"
      ]
    },
    {
      "cell_type": "code",
      "execution_count": null,
      "metadata": {
        "id": "vUeyock6JIjL"
      },
      "outputs": [],
      "source": [
        "!pip install --upgrade google-cloud-tasks google-cloud-secret-manager google-auth\n",
        "\n",
        "\n",
        "\n",
        "from google.colab import auth\n",
        "auth.authenticate_user()\n",
        "\n",
        "from tqdm import tqdm\n",
        "import pandas as pd\n",
        "from google.cloud import firestore\n",
        "\n"
      ]
    },
    {
      "cell_type": "code",
      "source": [
        "\n"
      ],
      "metadata": {
        "id": "S4Vi2l4katRa"
      },
      "execution_count": null,
      "outputs": []
    },
    {
      "cell_type": "code",
      "source": [
        "# @title Refresh publications using Tasks Queue\n",
        "\n",
        "from google.cloud import tasks_v2\n",
        "import google.auth\n",
        "\n",
        "credentials, _ = google.auth.default()\n",
        "db = firestore.Client(credentials=credentials, project=\"scholar-version2\")\n",
        "\n",
        "# Create a client for Cloud Tasks\n",
        "client = tasks_v2.CloudTasksClient()\n",
        "\n",
        "# Your Google Cloud project ID and location\n",
        "project = 'scholar-version2'\n",
        "location = 'northamerica-northeast1'\n",
        "queue = 'process-authors'\n",
        "\n",
        "# Construct the fully qualified queue name\n",
        "authors_queue = client.queue_path(project, location, 'process-authors')\n",
        "pubs_queue = client.queue_path(project, location, 'process-pubs')\n",
        "\n",
        "\n",
        "\n",
        "PAGE_SIZE = 20\n",
        "collection_ref = db.collection('scholar_raw_author')\n",
        "query = collection_ref.order_by('timestamp').limit(PAGE_SIZE)\n",
        "for doc in query.stream():\n",
        "  author = doc.to_dict().get('data', None)\n",
        "  if not author: continue\n",
        "\n",
        "  author_id = author.get('scholar_id')\n",
        "  publications = author['publications']\n",
        "\n",
        "  print(f'{author_id}: {len(publications)} publications')\n",
        "  url = f'https://scholar.ipeirotis.org/api/author/{author_id}?no_cache=true'\n",
        "  # Construct the request body\n",
        "  task = {\n",
        "      'http_request': {\n",
        "          'http_method': tasks_v2.HttpMethod.GET,\n",
        "          'url': url,\n",
        "      }\n",
        "  }\n",
        "  # Add the task to the queue\n",
        "  response = client.create_task(request={\"parent\": authors_queue, \"task\": task})\n",
        "\n",
        "  for pub in tqdm(publications):\n",
        "    pub_id = pub['author_pub_id']\n",
        "    url = f'https://scholar.ipeirotis.org/api/author/{author_id}/publication/{pub_id}'\n",
        "    # Construct the request body\n",
        "    task = {\n",
        "        'http_request': {\n",
        "            'http_method': tasks_v2.HttpMethod.GET,\n",
        "            'url': url,\n",
        "            #'headers': {'Content-type': 'application/json'},\n",
        "            #'body': f'{{\"pub\": \"{pub}\"}}'.encode()\n",
        "        }\n",
        "    }\n",
        "    # Add the task to the queue\n",
        "    response = client.create_task(request={\"parent\": pubs_queue, \"task\": task})"
      ],
      "metadata": {
        "id": "fknabivTbBIj"
      },
      "execution_count": null,
      "outputs": []
    },
    {
      "cell_type": "code",
      "source": [
        "# @title Create a table with the analytics of the authors\n",
        "\n",
        "# Initialize Firestore (ensure you have your credentials configured)\n",
        "db = firestore.Client(credentials=credentials, project=\"scholar-version2\")\n",
        "\n",
        "entries = []\n",
        "\n",
        "PAGE_SIZE = 1000\n",
        "collection_ref = db.collection('author_stats')\n",
        "query = collection_ref.order_by('timestamp').limit(PAGE_SIZE)\n",
        "\n",
        "# Start with the initial query\n",
        "last_document_snapshot = None\n",
        "\n",
        "while True:\n",
        "    if last_document_snapshot:\n",
        "        query = collection_ref.order_by('timestamp').start_after(last_document_snapshot).limit(PAGE_SIZE)\n",
        "\n",
        "    # Temporarily store documents from the current page to determine if we need to continue\n",
        "    current_page_documents = []\n",
        "\n",
        "    for doc in tqdm(query.stream()):\n",
        "        data = doc.to_dict().get('data', {})\n",
        "        stats = data.get('stats', {})\n",
        "        entry = {\n",
        "            \"scholar_id\": data.get('scholar_id'),\n",
        "            \"hindex\": data.get('hindex'),\n",
        "            \"years_active\": stats.get('years_active'),\n",
        "            \"pip_auc\": stats.get('pip_auc'),\n",
        "            \"pip_auc_percentile\": stats.get('pip_auc_percentile'),\n",
        "            \"total_publications\": stats.get('total_publications'),\n",
        "            \"total_publications_percentile\": stats.get('total_publications_percentile'),\n",
        "            \"citedby\": data.get('citedby'),\n",
        "        }\n",
        "        entries.append(entry)\n",
        "        current_page_documents.append(doc)\n",
        "\n",
        "    if not current_page_documents:\n",
        "        break  # Exit the loop if no documents are left\n",
        "\n",
        "    # Use the last document from the current page as the starting point for the next query\n",
        "    last_document_snapshot = current_page_documents[-1]\n",
        "\n",
        "# Convert entries to DataFrame if needed\n",
        "\n"
      ],
      "metadata": {
        "id": "H7xot6kSJnit"
      },
      "execution_count": null,
      "outputs": []
    },
    {
      "cell_type": "code",
      "source": [
        "df = pd.DataFrame(entries)"
      ],
      "metadata": {
        "id": "stUil9jom9mM"
      },
      "execution_count": null,
      "outputs": []
    },
    {
      "cell_type": "code",
      "source": [
        "df.dtypes"
      ],
      "metadata": {
        "id": "R4Ci7NdNq1m5"
      },
      "execution_count": null,
      "outputs": []
    },
    {
      "cell_type": "code",
      "source": [
        "df.years_active = pd.to_numeric(df.years_active, errors = 'coerce')\n",
        "df.total_publications_percentile = pd.to_numeric(df.total_publications_percentile, errors = 'coerce')"
      ],
      "metadata": {
        "id": "5jgvttAZmv2R"
      },
      "execution_count": null,
      "outputs": []
    },
    {
      "cell_type": "code",
      "source": [
        "df"
      ],
      "metadata": {
        "id": "e1qti9BonEoQ"
      },
      "execution_count": null,
      "outputs": []
    },
    {
      "cell_type": "code",
      "source": [
        "%config InlineBackend.figure_format='retina'"
      ],
      "metadata": {
        "id": "py1se9Gnn8eB"
      },
      "execution_count": null,
      "outputs": []
    },
    {
      "cell_type": "code",
      "source": [
        "import numpy as np\n",
        "\n",
        "# Define a custom aggregation function\n",
        "def percentile(n):\n",
        "    def percentile_(x):\n",
        "        return np.percentile(x, n)\n",
        "    percentile_.__name__ = f'percentile_{n}'\n",
        "    return percentile_\n",
        "\n",
        "pvt = df.query('years_active<=50').pivot_table(\n",
        "    values='total_publications',\n",
        "    index='years_active',\n",
        "    aggfunc=[percentile(0), percentile(10), percentile(25), percentile(50), percentile(75), percentile(90)],\n",
        ")"
      ],
      "metadata": {
        "id": "RCaWMvBkUoDg"
      },
      "execution_count": null,
      "outputs": []
    },
    {
      "cell_type": "code",
      "source": [
        "pvt.plot(grid=True)"
      ],
      "metadata": {
        "id": "iL5z7c-RnTt-"
      },
      "execution_count": null,
      "outputs": []
    },
    {
      "cell_type": "code",
      "source": [
        "pd.DataFrame(entries).query('years_active<=50').pivot_table(\n",
        "    values='h_index',\n",
        "    index='years_active',\n",
        "    aggfunc='median'\n",
        ").plot(grid=True)"
      ],
      "metadata": {
        "id": "FB1NnH_MXgK5"
      },
      "execution_count": null,
      "outputs": []
    },
    {
      "cell_type": "code",
      "source": [],
      "metadata": {
        "id": "K36Y0RVJKN2E"
      },
      "execution_count": null,
      "outputs": []
    }
  ]
}